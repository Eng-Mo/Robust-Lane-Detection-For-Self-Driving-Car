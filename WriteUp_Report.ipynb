{
 "cells": [
  {
   "cell_type": "code",
   "execution_count": 3,
   "metadata": {},
   "outputs": [
    {
     "name": "stdout",
     "output_type": "stream",
     "text": [
      "Appending to Report.md\n"
     ]
    }
   ],
   "source": [
    "%%writefile -a Report.md\n",
    "**Finding Lane Lines on the Road- P1** \n",
    "\n",
    "This Report explains the proposed algorithm for finding Road Lane under diffrent lighting condition and shadow reflection that form arbitrary shape(ex:tree reflection). \n",
    "\n",
    "---\n",
    "\n",
    "**Method and Project Algorthim Reflection**\n",
    "\n",
    "The project aim is detecting Lane line in road regardless the color of the lane as it differ from country to other. Also the proposed work addressed to enhance the frame against the light reflection. Many techniques in Image Processing enhancement has conducted such as analyze the histogram equalization for HLS space and norm the histogram. However , in some frames the amount of light was strong. HLS color space has chosen because it has the ability to analyze the image color against the amount of Light. Other method was investigated but not conducted (shape from shadow , the gradient of the image)as the shadow reflect arbitrary shape and the following are the followed pipeline:\n",
    "\n",
    "\n",
    "* Resize the Image to fit all test videos sizes.\n",
    "\n",
    "![alt text][Frame]\n",
    "\n",
    "* Extract a trapezoidal region of interest and the vertices assume the camera mounted in position in challenge video.\n",
    "![alt text][ROI]\n",
    "\n",
    "* The current frame enhanced by setting the Hue channel to zero and analyze the L and S channel together.\n",
    "\n",
    "![alt text][iHSL]\n",
    "![alt text][iSL]\n",
    "![alt text][iBGR]\n",
    "\n",
    "* Bilateral Filter was chosen due to it's efficiency to sharp the edges , the filter with higher values might     eliminate the lane in the high amount of light either for solid yellow line or striped white line\n",
    "\n",
    "![alt text][Filtered]\n",
    "\n",
    "* Canny edge detection\n",
    "\n",
    "![alt text][edges]\n",
    "\n",
    "* The line detection was developed using Hough Transform , and classifying the Right and Left lines was by the   slope  if (slope>.5) so it is left and id (slope <-5) its right line. this classification ignore the           horizontal line and line with high slope. \n",
    "* To not draw all the detected lines individually , averaging the lines' points was necessary to form one         single solid line for each side\n",
    "* The current frame's lines are stored in previous line in order to if the lines weren't detected in high noise   ,the lines will be the previous line (in red color) as lines position across the frame doesn't change too       much.\n",
    "* Lines are drawn in separate function (draw_lines) to just draw the passed lines.\n",
    "* Last step is to draw the detected line on the original frame. \n",
    "\n",
    "![alt text][Result]\n",
    "\n",
    "\n",
    "\n",
    "[Frame]: ./imagesR/frame.png\n",
    "[ROI]: ./imagesR/ROI.png\n",
    "[iHSL]: ./imagesR/HSL.png\n",
    "[iSL]: ./imagesR/SL.png\n",
    "[iBGR]: ./imagesR/ImageProc.png\n",
    "[Filtered]: ./imagesR/filtered.png\n",
    "[edges]: ./imagesR/edges.png \n",
    "[Result]: ./imagesR/result.png\n",
    "\n",
    "\n",
    "\n",
    "---\n",
    "**Potential shortcomings**\n",
    "This solution detect the lane in each frame in the challenging video except 4 frames. By decreasing the Hough votes it can detect the lane in each frame but other small lines will be detected in area that has high shadow noise. Also the drawn lines are shaking depend on the location of the Lane in each frame. The performance of the system might be influenced by other lighting condition\n",
    "\n",
    "**Improvment suggestions **\n",
    "\n",
    "This algorithm can be improved by enhance the histogram either in dark side or bright side. as by decrease the bright range to be in darker side and increase the dark range to brighter rage so that the two histogram peaks be aligned in same histogram range. but I find difficulty to modify part of histogram to another range."
   ]
  }
 ],
 "metadata": {
  "kernelspec": {
   "display_name": "Python 3",
   "language": "python",
   "name": "python3"
  },
  "language_info": {
   "codemirror_mode": {
    "name": "ipython",
    "version": 3
   },
   "file_extension": ".py",
   "mimetype": "text/x-python",
   "name": "python",
   "nbconvert_exporter": "python",
   "pygments_lexer": "ipython3",
   "version": "3.5.2"
  },
  "widgets": {
   "state": {},
   "version": "1.1.2"
  }
 },
 "nbformat": 4,
 "nbformat_minor": 2
}
