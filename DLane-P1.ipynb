{
 "cells": [
  {
   "cell_type": "code",
   "execution_count": 53,
   "metadata": {
    "collapsed": true
   },
   "outputs": [],
   "source": [
    "from pylab import *\n",
    "import matplotlib.pyplot as plt\n",
    "import matplotlib as mpimg\n",
    "from scipy.misc import imresize\n",
    "import matplotlib\n",
    "import pdb\n",
    "import numpy as np\n",
    "import cv2\n",
    "import moviepy\n",
    "from moviepy.editor import VideoFileClip\n",
    "from IPython.display import HTML\n",
    "import os, sys\n",
    "\n",
    "%matplotlib inline"
   ]
  },
  {
   "cell_type": "code",
   "execution_count": 54,
   "metadata": {},
   "outputs": [],
   "source": [
    "def region_of_interest(img):\n",
    "    \n",
    "    \n",
    "    mask = np.zeros(img.shape, dtype=np.uint8) #mask image\n",
    "    roi_corners = np.array([[(0,500), (960,500), (540,330),(440,330)]], \n",
    "                           dtype=np.int32) # vertisies seted to form trapezoidal scene\n",
    "    channel_count = img.shape[2]  # image channels\n",
    "    ignore_mask_color = (255,)*channel_count\n",
    "    cv2.fillPoly(mask, roi_corners, ignore_mask_color)\n",
    "    \n",
    "\n",
    "    # apply the mask\n",
    "    masked_image = cv2.bitwise_and(img, mask)\n",
    " \n",
    "    return masked_image"
   ]
  },
  {
   "cell_type": "code",
   "execution_count": 55,
   "metadata": {},
   "outputs": [],
   "source": [
    "def prepareImage (rI,f):\n",
    "   \n",
    "    hlsI=cv2.cvtColor(rI, cv2.COLOR_BGR2HLS) # convert to HLS to anlaysis the lane agains the amount of light\n",
    "    \n",
    "#     hlsE = np.zeros((540,960,3), 'uint8') \n",
    "    hlsI[:,:,0]=0                            # hlsE image with setting Hue channel to zero\n",
    "   \n",
    "    \n",
    "    \n",
    "    bgrI=cv2.cvtColor(hlsI, cv2.COLOR_HLS2BGR)    # convert to BGR\n",
    "\n",
    "    blur = blur_image(bgrI)                       #Filter image\n",
    " \n",
    "    return  blur"
   ]
  },
  {
   "cell_type": "code",
   "execution_count": 56,
   "metadata": {
    "collapsed": true
   },
   "outputs": [],
   "source": [
    "def blur_image (image):\n",
    "    return cv2.bilateralFilter(image,7,150,150) # this filter chosen due to it's performance in sharping edges \n"
   ]
  },
  {
   "cell_type": "code",
   "execution_count": 57,
   "metadata": {
    "collapsed": true
   },
   "outputs": [],
   "source": [
    "def cannyEdges(masked, low_threshold, high_threshold):\n",
    "    return cv2.Canny(masked, low_threshold, high_threshold)"
   ]
  },
  {
   "cell_type": "code",
   "execution_count": 58,
   "metadata": {},
   "outputs": [],
   "source": [
    "def hough_lines(img, rho, theta, threshold, min_line_len, max_line_gap, rPrev,lPrev,rPrevS,lPrevS):\n",
    "   \n",
    "      \n",
    "    lines = cv2.HoughLinesP(img, rho, theta, threshold, np.array([]), minLineLength=min_line_len, maxLineGap=max_line_gap)\n",
    "   \n",
    "    line_img = np.zeros((img.shape[0], img.shape[1], 3), dtype=np.uint8)\n",
    "    lL=[] #Left lines\n",
    "    rL=[] #Right lines\n",
    "    \n",
    "    \n",
    "    \n",
    "    for line in lines: # classify right and left lines and ignore  horizontal lines or any line with high slope\n",
    "        for x1,y1,x2,y2 in line:\n",
    "            slope  = (y2 - y1) / (x2 - x1)\n",
    "                        \n",
    "            if (slope>.5):\n",
    "                lL.append(line)\n",
    "            elif (slope<-.5):\n",
    "                rL.append(line)\n",
    "    if not lL:                    #if left line = null , draw previuos line with red color\n",
    "        color=[255,0,0]    \n",
    "        draw_lines(line_img, lPrev,lPrevS,color)\n",
    "        \n",
    "    else:                        # if left line , average all lines by averging the poits x1,y1,x2,y2\n",
    "        \n",
    "        lL=np.mean(lL,axis=0) \n",
    "        lL=lL.astype(int32)\n",
    "        slope  = (lL[0][3] - lL[0][1]) / (lL[0][2] - lL[0][0])\n",
    "        draw_lines(line_img, lL[0],slope) # draw line \n",
    "        lPrev=lL[0] # make current prevline= current line\n",
    "        lPrevS=slope\n",
    "        lL=[]\n",
    "        \n",
    "        \n",
    "        \n",
    "    if not rL:                   #if right line = null , draw previuos line with red color\n",
    "        color=[255,0,0]        \n",
    "        draw_lines(line_img, rPrev,rPrevS,color)\n",
    "        \n",
    "    else:                         # if right line , average all lines by averging the poits x1,y1,x2,y2\n",
    "        rL=np.mean(rL,axis=0) \n",
    "        rL=rL.astype(int32)\n",
    "        slope  = (rL[0][3] - rL[0][1]) / (rL[0][2] - rL[0][0])\n",
    "        \n",
    "          \n",
    "        draw_lines(line_img, rL[0],slope)    # Draw line\n",
    "        rPrev=rL[0]    # make prev right line = current right line\n",
    "        rPrevS=slope\n",
    "        rL=[]\n",
    "        \n",
    "\n",
    "    \n",
    "    \n",
    "    \n",
    "    \n",
    "    return line_img, rPrev,lPrev, rPrevS, lPrevS"
   ]
  },
  {
   "cell_type": "code",
   "execution_count": 59,
   "metadata": {},
   "outputs": [],
   "source": [
    "def draw_lines(img, lines,s, color=[0, 250, 0], thickness=5):\n",
    " \n",
    "    \n",
    "    x1=lines[0]\n",
    "    y1=lines[1]\n",
    "    x2=lines[2]\n",
    "    y2=lines[3]\n",
    "    \n",
    "    #lenAB = sqrt(pow(x1 - x2, 2.0) + pow(y1 - y2, 2.0)); # Calculate length of line\n",
    "    \n",
    "    if (s>.5):\n",
    "        if (x1<x2):       # Aligning the line with fixed y1, y2\n",
    "            x1=x2\n",
    "            y1,y2=y2,y1\n",
    "            \n",
    "                       \n",
    "        \n",
    "        y2=330\n",
    "        x2=int((y2-y1+s*x1)/s)\n",
    "        y1=500\n",
    "        x1=int((y1-y2+s*x2)/s)\n",
    "        \n",
    "    elif (s<-.5):\n",
    "        if (x1>x2):      # Aligning the line with fixed y1,y2\n",
    "            \n",
    "            x2=x1\n",
    "            y1,y2=y2,y1\n",
    "           \n",
    "      \n",
    "        y2=330\n",
    "        x2=int((y2-y1+s*x1)/s)\n",
    "        y1=500\n",
    "        x1=int((y1-y2+s*x2)/s)\n",
    "        \n",
    "   \n",
    "    cv2.line(img, (x1, y1), (x2, y2), color, thickness,lineType=cv2.LINE_AA) # Draw line\n",
    "    \n",
    "   \n",
    "      \n",
    "   "
   ]
  },
  {
   "cell_type": "code",
   "execution_count": 60,
   "metadata": {
    "collapsed": true
   },
   "outputs": [],
   "source": [
    "def weighted_img(img, initial_img, α=0.8, β=1., λ=0.):  \n",
    "  \n",
    "    return cv2.addWeighted(initial_img, α, img, β, λ)"
   ]
  },
  {
   "cell_type": "code",
   "execution_count": 61,
   "metadata": {
    "scrolled": true
   },
   "outputs": [
    {
     "name": "stdout",
     "output_type": "stream",
     "text": [
      "CPU times: user 0 ns, sys: 0 ns, total: 0 ns\n",
      "Wall time: 7.39 µs\n",
      "CPU times: user 0 ns, sys: 0 ns, total: 0 ns\n",
      "Wall time: 7.39 µs\n"
     ]
    }
   ],
   "source": [
    "from moviepy.editor import * \n",
    "from IPython import display\n",
    "from IPython.core.display import display\n",
    "from IPython.display import Image\n",
    "import pylab\n",
    "from scipy.misc import imresize\n",
    "\n",
    "import time\n",
    "\n",
    "t=0\n",
    "clip = VideoFileClip('challenge.mp4') # Read clip\n",
    "#fourcc = cv2.VideoWriter_fourcc('M','J','P','G')      #OpenCv writing file\n",
    "#out = cv2.VideoWriter('Detected_Lane3.avi',fourcc, 15.0, (960, 540)) # intialise output file\n",
    "rPrevS=0.0\n",
    "lPrevS=0.0\n",
    "rPrev=[] # Previuos right line\n",
    "lPrev=[] # Previuos left line\n",
    "\n",
    "\n",
    "d=0      # Frame number\n",
    "%time\n",
    "rI=[]      #frames array\n",
    "for frames in clip.iter_frames():\n",
    "\n",
    "        \n",
    "    frames = imresize(frames, (540,960)) # resize frame to fit all frames size(all test videos) \n",
    "\n",
    "\n",
    "    ROI=region_of_interest(frames) #extract ROI\n",
    "\n",
    "    masked_data = prepareImage(ROI,d)  # enhance the Image   \n",
    "\n",
    "    edges= cannyEdges(masked_data,200,255) # edge detection\n",
    "\n",
    "    [ll, rPrev, lPrev, rPrevS, lPrevS]=hough_lines(edges, 1, np.pi/180, 20, 30, 200, rPrev,lPrev,rPrevS,lPrevS)  # ll=Lines image mask\n",
    "    result= weighted_img(ll, frames, α=0.8, β=1., λ=0.) #output frame\n",
    "\n",
    "    rI.append(result)\n",
    "\n",
    "   # out.write(result)  #write output\n",
    "\n",
    "    d=d+1\n",
    "\n",
    "#out.release()\n",
    "%time\n",
    "    \n",
    "    # etc."
   ]
  },
  {
   "cell_type": "code",
   "execution_count": 62,
   "metadata": {},
   "outputs": [
    {
     "name": "stdout",
     "output_type": "stream",
     "text": [
      "[MoviePy] >>>> Building video Detected Lane Output.mp4\n",
      "[MoviePy] Writing video Detected Lane Output.mp4\n"
     ]
    },
    {
     "name": "stderr",
     "output_type": "stream",
     "text": [
      "100%|██████████| 251/251 [00:03<00:00, 78.54it/s]\n"
     ]
    },
    {
     "name": "stdout",
     "output_type": "stream",
     "text": [
      "[MoviePy] Done.\n",
      "[MoviePy] >>>> Video ready: Detected Lane Output.mp4 \n",
      "\n"
     ]
    }
   ],
   "source": [
    "from moviepy.editor import *\n",
    "\n",
    "clip_out=\"Detected Lane Output.mp4\"\n",
    "new_clip = ImageSequenceClip(rI, fps=15)\n",
    "new_clip.write_videofile(clip_out)\n",
    "\n"
   ]
  },
  {
   "cell_type": "code",
   "execution_count": 63,
   "metadata": {},
   "outputs": [
    {
     "data": {
      "text/html": [
       "\n",
       "<video width=\"640\" height=\"300\" controls>\n",
       "  <source src=\"Detected Lane Output.mp4\" type=\"video/mp4\">\n",
       "</video>\n"
      ],
      "text/plain": [
       "<IPython.core.display.HTML object>"
      ]
     },
     "execution_count": 63,
     "metadata": {},
     "output_type": "execute_result"
    }
   ],
   "source": [
    "HTML(\"\"\"\n",
    "<video width=\"640\" height=\"300\" controls>\n",
    "  <source src=\"{0}\" type=\"video/mp4\">\n",
    "</video>\n",
    "\"\"\".format(clip_out))\n",
    "\n"
   ]
  }
 ],
 "metadata": {
  "kernelspec": {
   "display_name": "Python 3",
   "language": "python",
   "name": "python3"
  },
  "language_info": {
   "codemirror_mode": {
    "name": "ipython",
    "version": 3
   },
   "file_extension": ".py",
   "mimetype": "text/x-python",
   "name": "python",
   "nbconvert_exporter": "python",
   "pygments_lexer": "ipython3",
   "version": "3.5.2"
  },
  "widgets": {
   "state": {},
   "version": "1.1.2"
  }
 },
 "nbformat": 4,
 "nbformat_minor": 2
}
