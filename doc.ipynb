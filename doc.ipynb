{
 "cells": [
  {
   "cell_type": "markdown",
   "metadata": {
    "deletable": true,
    "editable": true
   },
   "source": [
    "**Finding Lane Lines on the Road- P1** \n",
    "\n",
    "This Report explain the the proposed algorith for finding Lane on the road under diffrent lighting condition and shadow reflection that form arbitrary shadow shape(tree reflection). \n",
    "\n",
    "\n",
    "\n",
    "---\n",
    "\n",
    "**Method and Project Algorthim Reflection**\n",
    "\n",
    "The aim of this project is to detect Lane line in road regardless the color of the lane as it differ from country to other. Also the proposed work addressed to enhance the frame against the light reflection. Many techniques in Image Processing enhancement has conducted such as analyze the histogram equalization for HLS space and norm the histogram. However , in some frames the amount of light was strong. HLS color space has chosen as it provide the ability to analyze the image color against the amount of color (S-channel) and amount of Light (L-channel). Other method was investigated but not conducted (shape from shadow , the gradient of the image)as the shadow reflect arbitrary shape and the following are the followed pipeline:\n",
    "\n",
    "\n",
    "* Resize the Image to fit all test videos sizes\n",
    "* Extract a trapezoidal region of interest and the vertices assume the camera mounted in position in challenge video \n",
    "* The current frame enhanced by setting the Hue channel to zero and analyze the L and S channel together\n",
    "* Bilateral Filter was chosen due to it's efficiency to sharp the edges , the filter with higher values might eliminate the lane in the high amount of light either for solid yellow line or striped white line\n",
    "![alt text][iHSL]\n",
    "![alt text][iBGR]\n",
    "* Canny edge detection\n",
    "* The line detection was developed using Hough Transform , and classifying the Right and Left lines was by the slope  if (slope>.5) so it is left and id (slope <-5) its right line. this classification ignore the horizontal line and line with high slope. \n",
    "* To not draw all the detected lines individually , averaging the lines' points was necessary to form one single solid line for each side\n",
    "* The current frame's lines are stored in previous line in order to if the lines weren't detected in high noise , the lines will be the previous line (in red color) as lines position across the frame doesn't change too much.\n",
    "* Lines are drawn in separate function (draw_lines) to just draw the passed lines.\n",
    "* Last step is to draw the detected line on the original frame. \n",
    "![alt text][iR]\n",
    "\n",
    "\n",
    "\n",
    "\n",
    "[iHSL]: ./imagesHLS/ls(141.000000).png \"HSL\"\n",
    "[iBGR]: ./imagesBGR/bgr(141.000000).png \"BGR\"\n",
    "[iR]: ./imagesR/R(141.000000).png \"Result\"\n",
    "\n",
    "---\n",
    "\n",
    "\n",
    "\n",
    "**Potential shortcomings**\n",
    "This solution detect the lane in each frame except 4 frames in high lightness and with decrease the Hough votes it can detect the lane in each frame. However the detected line is small in frames that has high noise. Also the drawn lines are shaking depend on the location of the Lane in each frame. The performance of the system might be influenced by other lighting condition\n",
    "\n",
    "**Suggest possible improvements to your pipeline**\n",
    "\n",
    "This algorithm can be improved by enhance the histogram either in dark side or bright side. as by decrease the bright range to be in darker side and increase the dark range to brighter rage so that the two histogram peaks be aligned in same histogram range. but i find difficulty to modify part of histogram to another range."
   ]
  }
 ],
 "metadata": {
  "kernelspec": {
   "display_name": "Python 3",
   "language": "python",
   "name": "python3"
  },
  "language_info": {
   "codemirror_mode": {
    "name": "ipython",
    "version": 3
   },
   "file_extension": ".py",
   "mimetype": "text/x-python",
   "name": "python",
   "nbconvert_exporter": "python",
   "pygments_lexer": "ipython3",
   "version": "3.6.0"
  }
 },
 "nbformat": 4,
 "nbformat_minor": 2
}
